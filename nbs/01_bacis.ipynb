{
 "cells": [
  {
   "cell_type": "markdown",
   "id": "2d0d03c9",
   "metadata": {},
   "source": [
    "# Basic\n",
    "\n",
    "> some basic function "
   ]
  },
  {
   "cell_type": "code",
   "execution_count": null,
   "id": "79ef8508",
   "metadata": {},
   "outputs": [],
   "source": [
    "#| hide\n",
    "from nbdev_tutorial.core import*"
   ]
  },
  {
   "cell_type": "code",
   "execution_count": null,
   "id": "74bf381e",
   "metadata": {},
   "outputs": [
    {
     "data": {
      "text/plain": [
       "15"
      ]
     },
     "execution_count": null,
     "metadata": {},
     "output_type": "execute_result"
    }
   ],
   "source": [
    "add(10,5)"
   ]
  },
  {
   "cell_type": "code",
   "execution_count": null,
   "id": "39a6626c",
   "metadata": {},
   "outputs": [],
   "source": []
  },
  {
   "cell_type": "code",
   "execution_count": null,
   "id": "af57cf9c",
   "metadata": {},
   "outputs": [],
   "source": []
  },
  {
   "cell_type": "code",
   "execution_count": null,
   "id": "7c101e94",
   "metadata": {},
   "outputs": [],
   "source": []
  }
 ],
 "metadata": {
  "kernelspec": {
   "display_name": "python3",
   "language": "python",
   "name": "python3"
  }
 },
 "nbformat": 4,
 "nbformat_minor": 5
}
